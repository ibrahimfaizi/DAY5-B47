{
 "cells": [
  {
   "cell_type": "code",
   "execution_count": null,
   "id": "ed0d014a",
   "metadata": {},
   "outputs": [],
   "source": [
    "DAY5-B47.ipynb"
   ]
  },
  {
   "cell_type": "code",
   "execution_count": 1,
   "id": "29bc22e9",
   "metadata": {},
   "outputs": [],
   "source": [
    "cars = ['toyota', 'audi', 'maruthi', 'suxuki', 'kia', 'benz', 'bmw', 'hyndai']"
   ]
  },
  {
   "cell_type": "code",
   "execution_count": 2,
   "id": "2076c6e0",
   "metadata": {},
   "outputs": [
    {
     "name": "stdout",
     "output_type": "stream",
     "text": [
      "['toyota', 'audi', 'maruthi', 'suxuki', 'kia', 'benz', 'bmw', 'hyndai']\n"
     ]
    }
   ],
   "source": [
    "print(cars)"
   ]
  },
  {
   "cell_type": "code",
   "execution_count": null,
   "id": "ff3ca502",
   "metadata": {},
   "outputs": [],
   "source": [
    "to arranage in a alphabetic order\n",
    "two possible ways \n",
    "1) Temporary approach\n",
    "2) Permanent approach"
   ]
  },
  {
   "cell_type": "code",
   "execution_count": null,
   "id": "6aedaa79",
   "metadata": {},
   "outputs": [],
   "source": [
    "1) Temp approach "
   ]
  },
  {
   "cell_type": "code",
   "execution_count": 5,
   "id": "d036a4e3",
   "metadata": {},
   "outputs": [
    {
     "name": "stdout",
     "output_type": "stream",
     "text": [
      "['audi', 'benz', 'bmw', 'hyndai', 'kia', 'maruthi', 'suxuki', 'toyota']\n"
     ]
    }
   ],
   "source": [
    "print(sorted(cars))"
   ]
  },
  {
   "cell_type": "code",
   "execution_count": 6,
   "id": "6eb7e90b",
   "metadata": {},
   "outputs": [
    {
     "name": "stdout",
     "output_type": "stream",
     "text": [
      "['toyota', 'audi', 'maruthi', 'suxuki', 'kia', 'benz', 'bmw', 'hyndai']\n"
     ]
    }
   ],
   "source": [
    "print(cars)"
   ]
  },
  {
   "cell_type": "code",
   "execution_count": null,
   "id": "cb34911f",
   "metadata": {},
   "outputs": [],
   "source": [
    "2) Permanent Appraoch"
   ]
  },
  {
   "cell_type": "code",
   "execution_count": 7,
   "id": "5425257c",
   "metadata": {},
   "outputs": [],
   "source": [
    "cars.sort()"
   ]
  },
  {
   "cell_type": "code",
   "execution_count": 8,
   "id": "02c3a690",
   "metadata": {},
   "outputs": [
    {
     "name": "stdout",
     "output_type": "stream",
     "text": [
      "['audi', 'benz', 'bmw', 'hyndai', 'kia', 'maruthi', 'suxuki', 'toyota']\n"
     ]
    }
   ],
   "source": [
    "print(cars)"
   ]
  },
  {
   "cell_type": "code",
   "execution_count": null,
   "id": "49948c59",
   "metadata": {},
   "outputs": [],
   "source": [
    "for reverse"
   ]
  },
  {
   "cell_type": "code",
   "execution_count": 9,
   "id": "60805ca4",
   "metadata": {},
   "outputs": [],
   "source": [
    "cars.reverse()"
   ]
  },
  {
   "cell_type": "code",
   "execution_count": 10,
   "id": "5a4d623b",
   "metadata": {},
   "outputs": [
    {
     "name": "stdout",
     "output_type": "stream",
     "text": [
      "['toyota', 'suxuki', 'maruthi', 'kia', 'hyndai', 'bmw', 'benz', 'audi']\n"
     ]
    }
   ],
   "source": [
    "print(cars)"
   ]
  },
  {
   "cell_type": "code",
   "execution_count": null,
   "id": "17392d3c",
   "metadata": {},
   "outputs": [],
   "source": [
    "to count no of elements in the list "
   ]
  },
  {
   "cell_type": "code",
   "execution_count": 11,
   "id": "46eba1c9",
   "metadata": {},
   "outputs": [
    {
     "data": {
      "text/plain": [
       "8"
      ]
     },
     "execution_count": 11,
     "metadata": {},
     "output_type": "execute_result"
    }
   ],
   "source": [
    "len(cars)"
   ]
  },
  {
   "cell_type": "code",
   "execution_count": null,
   "id": "c745fd0f",
   "metadata": {},
   "outputs": [],
   "source": [
    "zen of python "
   ]
  },
  {
   "cell_type": "code",
   "execution_count": 12,
   "id": "50fda34e",
   "metadata": {},
   "outputs": [
    {
     "name": "stdout",
     "output_type": "stream",
     "text": [
      "The Zen of Python, by Tim Peters\n",
      "\n",
      "Beautiful is better than ugly.\n",
      "Explicit is better than implicit.\n",
      "Simple is better than complex.\n",
      "Complex is better than complicated.\n",
      "Flat is better than nested.\n",
      "Sparse is better than dense.\n",
      "Readability counts.\n",
      "Special cases aren't special enough to break the rules.\n",
      "Although practicality beats purity.\n",
      "Errors should never pass silently.\n",
      "Unless explicitly silenced.\n",
      "In the face of ambiguity, refuse the temptation to guess.\n",
      "There should be one-- and preferably only one --obvious way to do it.\n",
      "Although that way may not be obvious at first unless you're Dutch.\n",
      "Now is better than never.\n",
      "Although never is often better than *right* now.\n",
      "If the implementation is hard to explain, it's a bad idea.\n",
      "If the implementation is easy to explain, it may be a good idea.\n",
      "Namespaces are one honking great idea -- let's do more of those!\n"
     ]
    }
   ],
   "source": [
    "import this"
   ]
  },
  {
   "cell_type": "code",
   "execution_count": null,
   "id": "6312b216",
   "metadata": {},
   "outputs": [],
   "source": []
  },
  {
   "cell_type": "code",
   "execution_count": 13,
   "id": "31f50c86",
   "metadata": {},
   "outputs": [
    {
     "name": "stdout",
     "output_type": "stream",
     "text": [
      "['toyota', 'suxuki', 'maruthi', 'kia', 'hyndai', 'bmw', 'benz', 'audi']\n"
     ]
    }
   ],
   "source": [
    "print(cars)"
   ]
  },
  {
   "cell_type": "raw",
   "id": "8aa12b18",
   "metadata": {},
   "source": []
  },
  {
   "cell_type": "code",
   "execution_count": 15,
   "id": "5ab38f2b",
   "metadata": {},
   "outputs": [],
   "source": [
    "cars.sort()"
   ]
  },
  {
   "cell_type": "code",
   "execution_count": 16,
   "id": "2339f774",
   "metadata": {},
   "outputs": [
    {
     "name": "stdout",
     "output_type": "stream",
     "text": [
      "['audi', 'benz', 'bmw', 'hyndai', 'kia', 'maruthi', 'suxuki', 'toyota']\n"
     ]
    }
   ],
   "source": [
    "print(cars)"
   ]
  },
  {
   "cell_type": "code",
   "execution_count": null,
   "id": "82f19bdc",
   "metadata": {},
   "outputs": [],
   "source": []
  },
  {
   "cell_type": "code",
   "execution_count": null,
   "id": "99b13d34",
   "metadata": {},
   "outputs": [],
   "source": [
    "second example"
   ]
  },
  {
   "cell_type": "code",
   "execution_count": 29,
   "id": "0e813613",
   "metadata": {},
   "outputs": [],
   "source": [
    "bikes = ['honda', 'suzuki','tvs','bajaj', 'enfield','hero']"
   ]
  },
  {
   "cell_type": "code",
   "execution_count": 30,
   "id": "1cc80f00",
   "metadata": {},
   "outputs": [
    {
     "name": "stdout",
     "output_type": "stream",
     "text": [
      "['honda', 'suzuki', 'tvs', 'bajaj', 'enfield', 'hero']\n"
     ]
    }
   ],
   "source": [
    "print(bikes)"
   ]
  },
  {
   "cell_type": "code",
   "execution_count": null,
   "id": "e47e7b35",
   "metadata": {},
   "outputs": [],
   "source": []
  },
  {
   "cell_type": "code",
   "execution_count": 31,
   "id": "d46e6687",
   "metadata": {},
   "outputs": [
    {
     "name": "stdout",
     "output_type": "stream",
     "text": [
      "['bajaj', 'enfield', 'hero', 'honda', 'suzuki', 'tvs']\n"
     ]
    }
   ],
   "source": [
    "print(sorted(bikes))"
   ]
  },
  {
   "cell_type": "code",
   "execution_count": null,
   "id": "dd5c64b9",
   "metadata": {},
   "outputs": [],
   "source": []
  },
  {
   "cell_type": "code",
   "execution_count": 32,
   "id": "d1f06a5d",
   "metadata": {},
   "outputs": [
    {
     "name": "stdout",
     "output_type": "stream",
     "text": [
      "['honda', 'suzuki', 'tvs', 'bajaj', 'enfield', 'hero']\n"
     ]
    }
   ],
   "source": [
    "print(bikes)"
   ]
  },
  {
   "cell_type": "code",
   "execution_count": null,
   "id": "c1f71d04",
   "metadata": {},
   "outputs": [],
   "source": []
  },
  {
   "cell_type": "code",
   "execution_count": 33,
   "id": "543e1efe",
   "metadata": {},
   "outputs": [],
   "source": [
    "bikes.sort()"
   ]
  },
  {
   "cell_type": "code",
   "execution_count": 34,
   "id": "13638b2d",
   "metadata": {},
   "outputs": [
    {
     "name": "stdout",
     "output_type": "stream",
     "text": [
      "['bajaj', 'enfield', 'hero', 'honda', 'suzuki', 'tvs']\n"
     ]
    }
   ],
   "source": [
    "print(bikes)"
   ]
  },
  {
   "cell_type": "code",
   "execution_count": 35,
   "id": "6cae04a8",
   "metadata": {},
   "outputs": [
    {
     "name": "stdout",
     "output_type": "stream",
     "text": [
      "['bajaj', 'enfield', 'hero', 'honda', 'suzuki', 'tvs']\n"
     ]
    }
   ],
   "source": [
    "print(bikes)"
   ]
  },
  {
   "cell_type": "code",
   "execution_count": 26,
   "id": "93d1442e",
   "metadata": {},
   "outputs": [
    {
     "data": {
      "text/plain": [
       "6"
      ]
     },
     "execution_count": 26,
     "metadata": {},
     "output_type": "execute_result"
    }
   ],
   "source": [
    "len(bikes)"
   ]
  },
  {
   "cell_type": "code",
   "execution_count": 27,
   "id": "dbf60dd7",
   "metadata": {},
   "outputs": [],
   "source": [
    "bikes.reverse()"
   ]
  },
  {
   "cell_type": "code",
   "execution_count": 28,
   "id": "8850abc9",
   "metadata": {},
   "outputs": [
    {
     "name": "stdout",
     "output_type": "stream",
     "text": [
      "['tvs', 'tvs', 'suzuki', 'honda', 'hero', 'bajaj']\n"
     ]
    }
   ],
   "source": [
    "print(bikes)"
   ]
  },
  {
   "cell_type": "code",
   "execution_count": null,
   "id": "eca42371",
   "metadata": {},
   "outputs": [],
   "source": []
  }
 ],
 "metadata": {
  "kernelspec": {
   "display_name": "Python 3",
   "language": "python",
   "name": "python3"
  },
  "language_info": {
   "codemirror_mode": {
    "name": "ipython",
    "version": 3
   },
   "file_extension": ".py",
   "mimetype": "text/x-python",
   "name": "python",
   "nbconvert_exporter": "python",
   "pygments_lexer": "ipython3",
   "version": "3.8.8"
  }
 },
 "nbformat": 4,
 "nbformat_minor": 5
}
